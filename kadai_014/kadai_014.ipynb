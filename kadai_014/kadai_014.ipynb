{
  "nbformat": 4,
  "nbformat_minor": 0,
  "metadata": {
    "colab": {
      "provenance": []
    },
    "kernelspec": {
      "name": "python3",
      "display_name": "Python 3"
    },
    "language_info": {
      "name": "python"
    }
  },
  "cells": [
    {
      "cell_type": "code",
      "execution_count": 2,
      "metadata": {
        "colab": {
          "base_uri": "https://localhost:8080/"
        },
        "id": "222QoneH1Kaf",
        "outputId": "a49728a7-0f34-409a-f1bb-1db633358ba3"
      },
      "outputs": [
        {
          "output_type": "stream",
          "name": "stdout",
          "text": [
            "330.00000000000006\n",
            "330.00000000000006\n"
          ]
        }
      ],
      "source": [
        "price1 = 100\n",
        "price2 = 200\n",
        "tax = 1.1\n",
        "\n",
        "def total():\n",
        "    global price1, price2, tax, sum\n",
        "    sum = (price1 * tax) + (price2 * tax)\n",
        "    print(sum)\n",
        "\n",
        "total()\n",
        "print(sum)\n",
        "\n"
      ]
    }
  ]
}