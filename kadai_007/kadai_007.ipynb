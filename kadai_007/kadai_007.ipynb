{
  "nbformat": 4,
  "nbformat_minor": 0,
  "metadata": {
    "colab": {
      "provenance": []
    },
    "kernelspec": {
      "name": "python3",
      "display_name": "Python 3"
    },
    "language_info": {
      "name": "python"
    }
  },
  "cells": [
    {
      "cell_type": "code",
      "execution_count": 2,
      "metadata": {
        "colab": {
          "base_uri": "https://localhost:8080/"
        },
        "id": "gTu0-Y9uMioU",
        "outputId": "03128255-7ae3-4fe7-ecd6-6be8abd22917"
      },
      "outputs": [
        {
          "output_type": "stream",
          "name": "stdout",
          "text": [
            "水曜日は晴れです\n",
            "晴れ\n"
          ]
        }
      ],
      "source": [
        "array = [\n",
        "    \"月曜日は晴れです\",\n",
        "    \"火曜日は雨です\",\n",
        "    \"水曜日は晴れです\",\n",
        "    \"木曜日は晴れです\",\n",
        "    \"金曜日は曇りです\",\n",
        "    \"土曜日は曇りのち雨です\",\n",
        "    \"日曜日は雷雨です\"\n",
        "]\n",
        " # 水曜日の天気を取り出す\n",
        "print(array[2])\n",
        "\n",
        "# 辞書を作成\n",
        "weather_dict = {\n",
        "    \"月曜日\": \"晴れ\",\n",
        "    \"火曜日\": \"雨\",\n",
        "    \"水曜日\": \"晴れ\",\n",
        "    \"木曜日\": \"晴れ\",\n",
        "    \"金曜日\": \"曇り\",\n",
        "    \"土曜日\": \"曇りのち雨\",\n",
        "    \"日曜日\": \"雷雨\"\n",
        "}\n",
        "\n",
        "# 水曜日の天気を取り出す\n",
        "print(weather_dict[\"水曜日\"])"
      ]
    }
  ]
}