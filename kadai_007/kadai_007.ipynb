{
  "nbformat": 4,
  "nbformat_minor": 0,
  "metadata": {
    "colab": {
      "provenance": []
    },
    "kernelspec": {
      "name": "python3",
      "display_name": "Python 3"
    },
    "language_info": {
      "name": "python"
    }
  },
  "cells": [
    {
      "cell_type": "code",
      "execution_count": 1,
      "metadata": {
        "colab": {
          "base_uri": "https://localhost:8080/"
        },
        "id": "XNIeKFklp1hd",
        "outputId": "fe552a60-531d-4ea8-f35e-d4c9e6ef18f0"
      },
      "outputs": [
        {
          "output_type": "stream",
          "name": "stdout",
          "text": [
            "晴れ\n"
          ]
        }
      ],
      "source": [
        "# 辞書を作成\n",
        "weather_dict = {\n",
        "    \"月曜日\": \"晴れ\",\n",
        "    \"火曜日\": \"雨\",\n",
        "    \"水曜日\": \"晴れ\",\n",
        "    \"木曜日\": \"晴れ\",\n",
        "    \"金曜日\": \"曇り\",\n",
        "    \"土曜日\": \"曇りのち雨\",\n",
        "    \"日曜日\": \"雷雨\"\n",
        "}\n",
        "\n",
        "# 水曜日の天気を取り出す\n",
        "print(weather_dict[\"水曜日\"])"
      ]
    }
  ]
}