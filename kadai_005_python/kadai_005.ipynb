{
  "nbformat": 4,
  "nbformat_minor": 0,
  "metadata": {
    "colab": {
      "provenance": []
    },
    "kernelspec": {
      "name": "python3",
      "display_name": "Python 3"
    },
    "language_info": {
      "name": "python"
    }
  },
  "cells": [
    {
      "cell_type": "code",
      "execution_count": null,
      "metadata": {
        "id": "V77Z_It8N2D7"
      },
      "outputs": [],
      "source": [
        "# 基本情報\n",
        "上辺 = 10\n",
        "底辺 = 20\n",
        "高さ = 5\n",
        "# 台形の公式\n",
        "area = (上辺 + 底辺) * 高さ / 2\n",
        "print(str(area) + \"cm²\")"
      ]
    }
  ]
}