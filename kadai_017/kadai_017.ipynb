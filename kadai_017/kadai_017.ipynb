{
  "nbformat": 4,
  "nbformat_minor": 0,
  "metadata": {
    "colab": {
      "provenance": []
    },
    "kernelspec": {
      "name": "python3",
      "display_name": "Python 3"
    },
    "language_info": {
      "name": "python"
    }
  },
  "cells": [
    {
      "cell_type": "code",
      "execution_count": 1,
      "metadata": {
        "colab": {
          "base_uri": "https://localhost:8080/"
        },
        "id": "UfVYgK5oxlQT",
        "outputId": "31bcbafa-f50c-4ef1-8da0-0eac0407e319"
      },
      "outputs": [
        {
          "output_type": "stream",
          "name": "stdout",
          "text": [
            "一郎は成人です。\n",
            "二郎は成人です。\n",
            "三郎は成人です。\n",
            "四郎は未成年です。\n"
          ]
        }
      ],
      "source": [
        "class Human:\n",
        "    def __init__(self, name, age):\n",
        "        self.name = name\n",
        "        self.age = age\n",
        "\n",
        "    def check_adult(self):\n",
        "        if self.age >= 18:\n",
        "            print(f\"{self.name}は成人です。\")\n",
        "        else:\n",
        "            print(f\"{self.name}は未成年です。\")\n",
        "\n",
        "# Humanクラスのインスタンスを複数生成\n",
        "human1 = Human(\"一郎\", 30)\n",
        "human2 = Human(\"二郎\", 25)\n",
        "human3 = Human(\"三郎\", 20)\n",
        "human4 = Human(\"四郎\", 15)\n",
        "\n",
        "# 生成したインスタンスをリストに追加\n",
        "human_list = [human1, human2, human3,human4]\n",
        "\n",
        "# リストの要素数分だけ呼び出す\n",
        "for human in human_list:\n",
        "    human.check_adult()"
      ]
    }
  ]
}