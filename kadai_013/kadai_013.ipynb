{
  "nbformat": 4,
  "nbformat_minor": 0,
  "metadata": {
    "colab": {
      "provenance": []
    },
    "kernelspec": {
      "name": "python3",
      "display_name": "Python 3"
    },
    "language_info": {
      "name": "python"
    }
  },
  "cells": [
    {
      "cell_type": "code",
      "execution_count": 1,
      "metadata": {
        "colab": {
          "base_uri": "https://localhost:8080/"
        },
        "id": "TEkFWAaUaTij",
        "outputId": "8392edd6-1dfb-4645-a73a-8d123e4388a8"
      },
      "outputs": [
        {
          "output_type": "stream",
          "name": "stdout",
          "text": [
            "110.0\n"
          ]
        }
      ],
      "source": [
        "def add_two_arguments(price, tax):\n",
        "    return price + tax\n",
        "\n",
        "# 第2引数に100 * 0.10を渡す\n",
        "result = add_two_arguments(100, 100 * 0.10)\n",
        "print(result)\n"
      ]
    }
  ]
}