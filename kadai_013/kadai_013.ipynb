{
  "nbformat": 4,
  "nbformat_minor": 0,
  "metadata": {
    "colab": {
      "provenance": []
    },
    "kernelspec": {
      "name": "python3",
      "display_name": "Python 3"
    },
    "language_info": {
      "name": "python"
    }
  },
  "cells": [
    {
      "cell_type": "code",
      "execution_count": 4,
      "metadata": {
        "colab": {
          "base_uri": "https://localhost:8080/"
        },
        "id": "TEkFWAaUaTij",
        "outputId": "851a655b-875d-4e2a-fc4c-9f9afb5fcbac"
      },
      "outputs": [
        {
          "output_type": "stream",
          "name": "stdout",
          "text": [
            "110.0\n"
          ]
        }
      ],
      "source": [
        "def add_two_arguments(price, tax_rate):\n",
        "    # 税額を計算\n",
        "    tax = price * tax_rate\n",
        "    # 税込価格を返す\n",
        "    return price + tax\n",
        "\n",
        "# 第2引数に税率0.10（10%）を渡す\n",
        "result = add_two_arguments(100, 0.10)\n",
        "print(result)  # 出力：110.0\n"
      ]
    }
  ]
}