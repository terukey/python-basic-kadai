{
  "nbformat": 4,
  "nbformat_minor": 0,
  "metadata": {
    "colab": {
      "provenance": []
    },
    "kernelspec": {
      "name": "python3",
      "display_name": "Python 3"
    },
    "language_info": {
      "name": "python"
    }
  },
  "cells": [
    {
      "cell_type": "code",
      "execution_count": 4,
      "metadata": {
        "colab": {
          "base_uri": "https://localhost:8080/"
        },
        "id": "TEkFWAaUaTij",
        "outputId": "421678cf-9086-4616-f6a4-54dbad951da5"
      },
      "outputs": [
        {
          "output_type": "execute_result",
          "data": {
            "text/plain": [
              "110.0"
            ]
          },
          "metadata": {},
          "execution_count": 4
        }
      ],
      "source": [
        "def add_two_arguments(price, tax):\n",
        "    tax = price * 0.10\n",
        "    return price + tax\n",
        "\n",
        "add_two_arguments(100, tax=100 * 0.10)"
      ]
    }
  ]
}